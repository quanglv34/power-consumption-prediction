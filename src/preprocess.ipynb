{
 "cells": [
  {
   "cell_type": "code",
   "execution_count": 11,
   "metadata": {},
   "outputs": [],
   "source": [
    "import pandas as pd\n",
    "import numpy as np\n",
    "\n",
    "train = pd.read_csv('../data/train.csv', index_col=0)\n",
    "test = pd.read_csv('../data/submission_format.csv', index_col=0)\n",
    "\n",
    "weather = pd.read_csv('../data/weather.csv', index_col=0)\n",
    "meta = pd.read_csv('../data/metadata.csv')\n",
    "holidays = pd.read_csv('../data/holidays.csv', delimiter=';')"
   ]
  },
  {
   "cell_type": "code",
   "execution_count": 18,
   "metadata": {},
   "outputs": [
    {
     "ename": "TypeError",
     "evalue": "can only concatenate str (not \"int\") to str",
     "output_type": "error",
     "traceback": [
      "\u001b[1;31m---------------------------------------------------------------------------\u001b[0m",
      "\u001b[1;31mTypeError\u001b[0m                                 Traceback (most recent call last)",
      "Cell \u001b[1;32mIn[18], line 1\u001b[0m\n\u001b[1;32m----> 1\u001b[0m \u001b[39mprint\u001b[39m(\u001b[39m\"\u001b[39;49m\u001b[39mTotal sites in metadata table = \u001b[39;49m\u001b[39m\"\u001b[39;49m \u001b[39m+\u001b[39;49m meta\u001b[39m.\u001b[39;49mSiteId\u001b[39m.\u001b[39;49munique()\u001b[39m.\u001b[39;49msize)\n\u001b[0;32m      2\u001b[0m \u001b[39mprint\u001b[39m(\u001b[39m\"\u001b[39m\u001b[39mTotal sites in weather talbe = \u001b[39m\u001b[39m\"\u001b[39m \u001b[39m+\u001b[39m weather\u001b[39m.\u001b[39mSiteId\u001b[39m.\u001b[39munique()\u001b[39m.\u001b[39msize)\n",
      "\u001b[1;31mTypeError\u001b[0m: can only concatenate str (not \"int\") to str"
     ]
    }
   ],
   "source": [
    "print(f\"Total sites in metadata table = {meta.SiteId.unique().size}\")\n",
    "print(f\"Total sites in weather talbe = {weather.SiteId.unique().size}\")"
   ]
  },
  {
   "cell_type": "code",
   "execution_count": 12,
   "metadata": {},
   "outputs": [],
   "source": [
    "def process_time(df):\n",
    "    \n",
    "    # Convert timestamp into a pandas datatime object\n",
    "    df['Timestamp'] = pd.to_datetime(df['Timestamp'])\n",
    "    df = df.set_index('Timestamp')\n",
    "    \n",
    "    # Extract units of time from the timestamp\n",
    "    df['min'] = df.index.minute\n",
    "    df['hour'] = df.index.hour\n",
    "    df['wday'] = df.index.dayofweek\n",
    "    df['mday'] = df.index.day\n",
    "    df['yday'] = df.index.dayofyear\n",
    "    df['month'] = df.index.month\n",
    "    df['year'] = df.index.year\n",
    "    \n",
    "    # Create a time of day to represent hours and minutes\n",
    "    df['time'] = df['hour'] + (df['min'] / 60)\n",
    "    df = df.drop(columns=['hour', 'min'])\n",
    "    \n",
    "    # Turn the index into a column\n",
    "    df = df.reset_index(level=0)\n",
    "    \n",
    "    return df\n",
    "\n",
    "train = process_time(train)\n",
    "test = process_time(test)\n"
   ]
  }
 ],
 "metadata": {
  "kernelspec": {
   "display_name": ".venv",
   "language": "python",
   "name": "python3"
  },
  "language_info": {
   "codemirror_mode": {
    "name": "ipython",
    "version": 3
   },
   "file_extension": ".py",
   "mimetype": "text/x-python",
   "name": "python",
   "nbconvert_exporter": "python",
   "pygments_lexer": "ipython3",
   "version": "3.10.6"
  },
  "orig_nbformat": 4
 },
 "nbformat": 4,
 "nbformat_minor": 2
}
